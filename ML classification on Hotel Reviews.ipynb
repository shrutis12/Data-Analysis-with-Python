{
 "cells": [
  {
   "cell_type": "markdown",
   "metadata": {},
   "source": [
    "# COMP 47460 Assignment 2\n",
    "\n",
    "Student Number - 19200851\n",
    "\n",
    "Student Name   - Shruti Sivanandam Palamadai"
   ]
  },
  {
   "cell_type": "code",
   "execution_count": 3,
   "metadata": {},
   "outputs": [],
   "source": [
    "#importing required libraries\n",
    "import requests\n",
    "from bs4 import BeautifulSoup, SoupStrainer\n",
    "import pandas as pd\n",
    "import nltk\n",
    "from nltk.corpus import wordnet\n",
    "from sklearn.feature_extraction.text import TfidfVectorizer\n",
    "from sklearn.model_selection import train_test_split\n",
    "from sklearn.linear_model import LogisticRegression\n",
    "from sklearn.ensemble import RandomForestClassifier\n",
    "from sklearn.metrics import *\n",
    "from sklearn.metrics import confusion_matrix\n",
    "import seaborn as sn\n",
    "import matplotlib.pyplot as plt\n",
    "import string\n",
    "import numpy.random as npr\n",
    "import requests\n",
    "import pandas as pd\n",
    "import warnings\n",
    "warnings.filterwarnings('ignore')"
   ]
  },
  {
   "cell_type": "markdown",
   "metadata": {},
   "source": [
    "I have chosen Hotels, Gym & Hair and Salons as the three categories. The following code fetches the urls for the set of reviews for each category"
   ]
  },
  {
   "cell_type": "code",
   "execution_count": 4,
   "metadata": {},
   "outputs": [],
   "source": [
    "def get_urls(sub_url):\n",
    "    # Response object to get the webpage.\n",
    "    url = 'http://mlg.ucd.ie/modules/yalp/'\n",
    "    urls=[]\n",
    "    response = requests.get(sub_url)\n",
    "    # Data contains the source code of the webpage.\n",
    "    data = response.text\n",
    "    # Parsing the source code\n",
    "    soup = BeautifulSoup(data, 'html.parser')\n",
    "    # Extract the URLs for all the hotels\n",
    "    urls =[url+ link.get(\"href\") for link in soup.find_all(\"a\",href=True)]\n",
    "    return urls\n",
    "\n",
    "# Fetching hotel links.\n",
    "hotel_list = 'http://mlg.ucd.ie/modules/yalp/hotels_list.html'\n",
    "hotel_urls = get_urls(hotel_list)\n",
    "\n",
    "# Fetching gym links.\n",
    "gym_list = 'http://mlg.ucd.ie/modules/yalp/gym_list.html'\n",
    "gym_urls = get_urls(gym_list)\n",
    "\n",
    "# Fetching hair and salon links.\n",
    "hair_salon_list = 'http://mlg.ucd.ie/modules/yalp/hair_salons_list.html'\n",
    "hair_salon_urls =  get_urls(hair_salon_list)"
   ]
  },
  {
   "cell_type": "markdown",
   "metadata": {},
   "source": [
    "In the following code the review text is extracted for each review and is labelled as positive or negative depending on ratiing being above or below 3. The data is finally stored as a dataframe with two colums - Review and Label."
   ]
  },
  {
   "cell_type": "code",
   "execution_count": 5,
   "metadata": {},
   "outputs": [],
   "source": [
    "def extract_and_label_reviews(url_list): \n",
    "    reviews = [] # List of reviews  \n",
    "    ratings= []  # List of the ratings of each review \n",
    "    for urls in url_list:\n",
    "        if 'index' in urls:\n",
    "            pass\n",
    "        # retrieve the data from the specified base url. \n",
    "        base_data = requests.get(urls)\n",
    "        # scrape the contents of the web page\n",
    "        scraper = BeautifulSoup(base_data.content,'html.parser')\n",
    "        # extract a particular class inside a tag\n",
    "        reviews_text = scraper.find_all('p',{\"class\":\"review-text\"})\n",
    "        for review in reviews_text:\n",
    "            reviews.append(review.text)\n",
    "        \n",
    "        # Ratings exists in alt tag of the img tags.\n",
    "        rating_value = scraper.find_all('img',alt=True)    \n",
    "        for rating in rating_value:\n",
    "            # if rating is less than 3: The review is labelled as Negative.\n",
    "            if int(rating.get('alt')[0])<=3:\n",
    "                ratings.append('negative')       \n",
    "            # if rating is greater than 3: The review is labelled as Positive.\n",
    "            else:\n",
    "                ratings.append('positive')\n",
    "\n",
    "        # Dictionary of Reviews and Ratings\n",
    "        dict_reviews = {'Review': reviews,'Label':ratings}\n",
    "        \n",
    "    return dict_reviews\n",
    "\n",
    "# Storing the reviews and their ratings in a df.\n",
    "dict_hotel_reviews = extract_and_label_reviews(hotel_urls)\n",
    "hotel_df = pd.DataFrame(dict_hotel_reviews)\n",
    "\n",
    "dict_gym_reviews = extract_and_label_reviews(gym_urls)\n",
    "gym_df = pd.DataFrame(dict_gym_reviews)\n",
    "\n",
    "dict_hair_salon_reviews = extract_and_label_reviews(hair_salon_urls)\n",
    "hair_salon_df = pd.DataFrame(dict_hair_salon_reviews)"
   ]
  },
  {
   "cell_type": "markdown",
   "metadata": {},
   "source": [
    "Now the Review text will need to be preprocessed before converting to an appropriate numeric representation. The standard text pre-processing methods are used here such as \n",
    "\n",
    "Whitespace removal\n",
    "\n",
    "Stop words removal\n",
    "\n",
    "Converting to lowercase\n",
    "\n",
    "lemmatizing the words\n",
    "\n",
    "Removing words that contain numbers.\n",
    "\n",
    "All the above has been done so that the final numerical representation will be more accurate to model our data on."
   ]
  },
  {
   "cell_type": "code",
   "execution_count": 6,
   "metadata": {},
   "outputs": [
    {
     "name": "stdout",
     "output_type": "stream",
     "text": [
      "                                              Review     Label\n",
      "0  melissa take tour asia space hour definitely k...  positive\n",
      "1  group seven visit montreal week look tour woul...  positive\n",
      "2  melissa gem fiancé find tour viator check trip...  positive\n",
      "3  perfect day montreal melissa outfit bike deftl...  positive\n",
      "4  really great food truck tour melissa montreal ...  positive\n"
     ]
    }
   ],
   "source": [
    "#clean up and lemmatize the words in review text\n",
    "def get_wordnet_pos(pos_tag):\n",
    "    if pos_tag.startswith('J'):\n",
    "        return wordnet.ADJ\n",
    "    elif pos_tag.startswith('V'):\n",
    "        return wordnet.VERB\n",
    "    elif pos_tag.startswith('N'):\n",
    "        return wordnet.NOUN\n",
    "    elif pos_tag.startswith('R'):\n",
    "        return wordnet.ADV\n",
    "    else:\n",
    "        return wordnet.NOUN\n",
    "lemmatizer = nltk.stem.WordNetLemmatizer()\n",
    "# Function to clean the text.\n",
    "def clean_text(text):\n",
    "    # lower text\n",
    "    text = text.lower()\n",
    "    # tokenize text and remove puncutation\n",
    "    text = [word.strip(string.punctuation) for word in text.split(\" \")]\n",
    "    # remove words that contain numbers\n",
    "    text = [word for word in text if not any(c.isdigit() for c in word)]\n",
    "    # remove stop words\n",
    "    stop = nltk.corpus.stopwords.words('english')\n",
    "    text = [x for x in text if x not in stop]\n",
    "    # remove empty tokens\n",
    "    text = [t for t in text if len(t) > 0]\n",
    "    pos_tags = nltk.pos_tag(text)\n",
    "    text = [lemmatizer.lemmatize(t[0], get_wordnet_pos(t[1])) for t in pos_tags]\n",
    "    # remove words with only one letter\n",
    "    text = [t for t in text if len(t) > 1]\n",
    "    # join all\n",
    "    text = \" \".join(text)\n",
    "    return(text)\n",
    "\n",
    "# Invoke the clean_text function for Review of each dataframe.\n",
    "hotel_df['Review'] = hotel_df.Review.apply(clean_text)\n",
    "gym_df['Review'] = gym_df.Review.apply(clean_text)\n",
    "hair_salon_df['Review'] = hair_salon_df.Review.apply(clean_text)\n",
    "print(hotel_df.head(5)) # to demonstrate cleaned text"
   ]
  },
  {
   "cell_type": "markdown",
   "metadata": {},
   "source": [
    "Now the data needs to be converted to an appropriate numerical representation in order to run a text classification algorithm on it. In this case tf-idf is an extrmely useful measure that helps in measuring the importance of a certain word in a corpus.tf–idf or TFIDF, short for term frequency-inverse document frequency, is a numerical statistic that is intended to reflect how important a word is to a document in a collection or corpus.The tf–idf value increases proportionally to the number of times a word appears in the document and is offset by the number of documents in the corpus that contain the word, which helps to adjust for the fact that some words appear more frequently in general. While this will be helpful for the classification algorithm we will be running shortly, it can also help in the future in sentiment analysis of the reviews and analyzing which key words occur more often in negative vs positive reviews"
   ]
  },
  {
   "cell_type": "code",
   "execution_count": 7,
   "metadata": {},
   "outputs": [
    {
     "name": "stdout",
     "output_type": "stream",
     "text": [
      "   aaa  able  absolutely   ac  access  accommodate  across  activity  \\\n",
      "0  0.0   0.0         0.0  0.0     0.0          0.0     0.0       0.0   \n",
      "1  0.0   0.0         0.0  0.0     0.0          0.0     0.0       0.0   \n",
      "2  0.0   0.0         0.0  0.0     0.0          0.0     0.0       0.0   \n",
      "\n",
      "   actually  add  ...  wow  write  wrong  year  yelp  yes  yet  young  zero  \\\n",
      "0       0.0  0.0  ...  0.0    0.0    0.0   0.0   0.0  0.0  0.0    0.0   0.0   \n",
      "1       0.0  0.0  ...  0.0    0.0    0.0   0.0   0.0  0.0  0.0    0.0   0.0   \n",
      "2       0.0  0.0  ...  0.0    0.0    0.0   0.0   0.0  0.0  0.0    0.0   0.0   \n",
      "\n",
      "      Label  \n",
      "0  positive  \n",
      "1  positive  \n",
      "2  positive  \n",
      "\n",
      "[3 rows x 974 columns]\n"
     ]
    }
   ],
   "source": [
    "tfidf_vectorizer = TfidfVectorizer(max_df=0.9,min_df=0.01,use_idf=True)\n",
    "\n",
    "tfidf_matrix = tfidf_vectorizer.fit_transform(hotel_df['Review'])\n",
    "terms = tfidf_vectorizer.get_feature_names() # this will extract all keywords from our cleaned text of the review\n",
    "\n",
    "# Dataframe with column names as the features from the vectorised object.\n",
    "hotel_review_df = pd.DataFrame(tfidf_matrix.todense(), columns = terms)\n",
    "hotel_review_df['Label'] = hotel_df['Label']\n",
    "print(hotel_review_df.head(3)) # to show how the df looks\n",
    "\n",
    "tfidf_matrix = tfidf_vectorizer.fit_transform(gym_df['Review'])\n",
    "terms = tfidf_vectorizer.get_feature_names()\n",
    "gym_review_df= pd.DataFrame(tfidf_matrix.todense(), columns = terms)\n",
    "gym_review_df['Label'] = gym_df['Label']\n",
    "\n",
    "\n",
    "tfidf_matrix = tfidf_vectorizer.fit_transform(hair_salon_df['Review'])\n",
    "terms = tfidf_vectorizer.get_feature_names()\n",
    "hair_salon_review_df = pd.DataFrame(tfidf_matrix.todense(), columns = terms)\n",
    "hair_salon_review_df['Label'] = hair_salon_df['Label']"
   ]
  },
  {
   "cell_type": "markdown",
   "metadata": {},
   "source": [
    "The following code models the data using logistic regression. The data has ben split to be 70% for training and 30% for test.\n",
    "The accuracy score gives us an idea has to how well the model is able to classify the data. Confusion Matrix represents the number of classes correctly and incorrectly classified. "
   ]
  },
  {
   "cell_type": "code",
   "execution_count": 8,
   "metadata": {},
   "outputs": [
    {
     "name": "stdout",
     "output_type": "stream",
     "text": [
      "\n",
      "Training and Testing Hotel Reviews\n",
      "Review Accuracy = 0.90\n",
      "              precision    recall  f1-score   support\n",
      "\n",
      "    positive       0.98      0.77      0.86       257\n",
      "    negative       0.85      0.99      0.91       343\n",
      "\n",
      "    accuracy                           0.90       600\n",
      "   macro avg       0.91      0.88      0.89       600\n",
      "weighted avg       0.91      0.90      0.89       600\n",
      "\n"
     ]
    },
    {
     "data": {
      "image/png": "[encoded data removed]",
      "text/plain": [
       "<Figure size 432x288 with 1 Axes>"
      ]
     },
     "metadata": {
      "needs_background": "light"
     },
     "output_type": "display_data"
    },
    {
     "name": "stdout",
     "output_type": "stream",
     "text": [
      "\n",
      "Training and Testing Gym Reviews\n",
      "Review Accuracy = 0.90\n",
      "              precision    recall  f1-score   support\n",
      "\n",
      "    positive       0.89      0.78      0.83       197\n",
      "    negative       0.90      0.95      0.93       403\n",
      "\n",
      "    accuracy                           0.90       600\n",
      "   macro avg       0.89      0.87      0.88       600\n",
      "weighted avg       0.90      0.90      0.89       600\n",
      "\n"
     ]
    },
    {
     "data": {
      "image/png": "[encoded data removed]",
      "text/plain": [
       "<Figure size 432x288 with 1 Axes>"
      ]
     },
     "metadata": {},
     "output_type": "display_data"
    },
    {
     "name": "stdout",
     "output_type": "stream",
     "text": [
      "\n",
      "Training and Testing Hair Salon Reviews\n",
      "Review Accuracy = 0.91\n",
      "              precision    recall  f1-score   support\n",
      "\n",
      "    positive       0.94      0.61      0.74       122\n",
      "    negative       0.91      0.99      0.95       478\n",
      "\n",
      "    accuracy                           0.91       600\n",
      "   macro avg       0.92      0.80      0.85       600\n",
      "weighted avg       0.92      0.91      0.91       600\n",
      "\n"
     ]
    },
    {
     "data": {
      "image/png": "[encoded data removed]",
      "text/plain": [
       "<Figure size 432x288 with 1 Axes>"
      ]
     },
     "metadata": {},
     "output_type": "display_data"
    }
   ],
   "source": [
    "def lr_model(df):\n",
    "    npr.seed(123)\n",
    "    X_Train,X_Test,Y_Train,Y_Test = train_test_split(df.iloc[:,:-1], df.iloc[:,-1], test_size = 0.3)\n",
    "    lr = LogisticRegression()\n",
    "    lr.fit(X_Train, Y_Train)\n",
    "    lr_y_pred = lr.predict(X_Test)\n",
    "    print(\"Review Accuracy = %.2f\" % accuracy_score(Y_Test, lr_y_pred) )\n",
    "    cm = confusion_matrix(Y_Test, lr_y_pred)\n",
    "    print(classification_report(Y_Test, lr_y_pred, target_names=[\"positive\",\"negative\"]))\n",
    "    fig, ax = plt.subplots(figsize=(6,4))\n",
    "    sn.heatmap(cm, annot=True, cbar = False, fmt = 'd', annot_kws= {'size':16}, cmap= 'Blues')\n",
    "    sn.set(font_scale= 1.5)\n",
    "    # Align the text in middle.\n",
    "    bottom,top = ax.get_ylim()\n",
    "    ax.set_ylim(bottom +0.5, top - 0.5)\n",
    "\n",
    "    # Assign labels to X and Y axis.\n",
    "    plt.ylabel('Actual')\n",
    "    plt.xlabel('Predicted')\n",
    "    plt.show()\n",
    "    \n",
    "print(\"\\nTraining and Testing Hotel Reviews\")\n",
    "lr_model(hotel_review_df)#974 cols\n",
    "\n",
    "print(\"\\nTraining and Testing Gym Reviews\")\n",
    "lr_model(gym_review_df)#925 cols\n",
    "\n",
    "print(\"\\nTraining and Testing Hair Salon Reviews\")\n",
    "lr_model(hair_salon_review_df)#716 cols"
   ]
  },
  {
   "cell_type": "markdown",
   "metadata": {},
   "source": [
    "As seen above above, the results with logistic regression are quite good. Logistic Regression works well when we have to model a binary dependent variable. In this case the label- positive/negative is the binary dependent variable. The accuracy for all the categories is >=0.90. We can see that for the hair salon reviews, the classes are highly imbalanced. In such a case, it is good practice to look at the f1 score more than the accuracy as it measures the harmonic mean of precision and recall. We can see that the f1 score is decent for the positive classes and very good for the negative classes. "
   ]
  },
  {
   "cell_type": "markdown",
   "metadata": {},
   "source": [
    "Now we will model the data on one category and test it on the other two categories to see how that affects the performance of the model."
   ]
  },
  {
   "cell_type": "code",
   "execution_count": 9,
   "metadata": {},
   "outputs": [
    {
     "name": "stdout",
     "output_type": "stream",
     "text": [
      "\n",
      "Modelling on Category A - Hotel and testing on Category B - Gym & Category C - Hair Salon\n",
      "Category B Review Accuracy = 0.55\n",
      "Category C Review Accuracy = 0.47\n",
      "\n",
      "Modelling on Category A - Gym and testing on Category B - Hotel & Category C - Hair Salon\n",
      "Category B Review Accuracy = 0.52\n",
      "Category C Review Accuracy = 0.70\n",
      "\n",
      "Modelling on Category A - Hair Salon and testing on Category B - Hotel & Category C - Gym\n",
      "Category B Review Accuracy = 0.58\n",
      "Category C Review Accuracy = 0.65\n"
     ]
    }
   ],
   "source": [
    "def model_test_on_category(df_A,df_B,df_C):\n",
    "    npr.seed(123)\n",
    "    #training model on category A and testing on Category B and Category C\n",
    "    X_Train,X_Test,Y_Train,Y_Test = train_test_split(df_A.iloc[:,:715], df_A.iloc[:,-1], test_size = 0.3)\n",
    "    #using 715 columns as smallest dataframe has 716 columns total inclusing label\n",
    "    #and including any more will lead to out of index error while testing\n",
    "    \n",
    "    # Logistic Regression Classifier.\n",
    "    categoryA_reg = LogisticRegression()\n",
    "    \n",
    "    # Fitting the model\n",
    "    categoryA_reg.fit(X_Train, Y_Train)\n",
    "    \n",
    "    # Taking the same number of features in across three datasets to be able to evaluate the two categories against the classification model of one category.\n",
    "    X_categoryB_Test = df_B.iloc[:,:715]\n",
    "    Y_categoryB_Test = df_B.iloc[:,-1]\n",
    "    \n",
    "    X_categoryC_Test = df_C.iloc[:,:715]\n",
    "    Y_categoryC_Test = df_C.iloc[:,-1]\n",
    "    \n",
    "    # Evaluate gym and hair salon on the model built on hotel\n",
    "    \n",
    "    Y_categoryB_pred = categoryA_reg.predict(X_categoryB_Test)\n",
    "    print(\"Category B Review Accuracy = %.2f\" % accuracy_score(Y_categoryB_Test, Y_categoryB_pred) )\n",
    "    \n",
    "    \n",
    "    Y_categoryC_pred = categoryA_reg.predict(X_categoryC_Test)\n",
    "    print(\"Category C Review Accuracy = %.2f\" % accuracy_score(Y_categoryC_Test, Y_categoryC_pred) )\n",
    "\n",
    "print(\"\\nModelling on Category A - Hotel and testing on Category B - Gym & Category C - Hair Salon\")\n",
    "model_test_on_category(hotel_review_df,gym_review_df,hair_salon_review_df)\n",
    "\n",
    "print(\"\\nModelling on Category A - Gym and testing on Category B - Hotel & Category C - Hair Salon\")\n",
    "model_test_on_category(gym_review_df,hotel_review_df,hair_salon_review_df)\n",
    "\n",
    "print(\"\\nModelling on Category A - Hair Salon and testing on Category B - Hotel & Category C - Gym\")\n",
    "model_test_on_category(hair_salon_review_df,hotel_review_df,gym_review_df)"
   ]
  },
  {
   "cell_type": "markdown",
   "metadata": {},
   "source": [
    "Now since the hair salon has the smallest amount of independent variables to model on, i.e in this case the number of distinct terms/keywords in the review - 715 this would obviously impact testing in all three cases as for the other two categories we will only be able to consider 715 terms too inspite there being more. This is why when we trained model on hotel and gym reviews it lead to a relatively lower accuracy than when modelled using hair salon category. But overall we can see that logistic regression is a good fit for the data we have and we could also further use it for sentiment analysis."
   ]
  }
 ],
 "metadata": {
  "kernelspec": {
   "display_name": "Python 3",
   "language": "python",
   "name": "python3"
  },
  "language_info": {
   "codemirror_mode": {
    "name": "ipython",
    "version": 3
   },
   "file_extension": ".py",
   "mimetype": "text/x-python",
   "name": "python",
   "nbconvert_exporter": "python",
   "pygments_lexer": "ipython3",
   "version": "3.7.3"
  }
 },
 "nbformat": 4,
 "nbformat_minor": 2
}
